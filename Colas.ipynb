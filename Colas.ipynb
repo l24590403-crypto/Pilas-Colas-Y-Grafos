{
  "nbformat": 4,
  "nbformat_minor": 0,
  "metadata": {
    "colab": {
      "provenance": [],
      "authorship_tag": "ABX9TyPptjLUb5T2UkicWfKxGa0q",
      "include_colab_link": true
    },
    "kernelspec": {
      "name": "python3",
      "display_name": "Python 3"
    },
    "language_info": {
      "name": "python"
    }
  },
  "cells": [
    {
      "cell_type": "markdown",
      "metadata": {
        "id": "view-in-github",
        "colab_type": "text"
      },
      "source": [
        "<a href=\"https://colab.research.google.com/github/l24590403-crypto/Pilas-Colas-Y-Grafos/blob/main/Colas.ipynb\" target=\"_parent\"><img src=\"https://colab.research.google.com/assets/colab-badge.svg\" alt=\"Open In Colab\"/></a>"
      ]
    },
    {
      "cell_type": "code",
      "execution_count": null,
      "metadata": {
        "id": "jd-Bq2WPtmOm"
      },
      "outputs": [],
      "source": [
        "class Cola:\n",
        "    def __init__(self):\n",
        "        self.items = []\n",
        "\n",
        "    def enqueue(self, dato):\n",
        "        self.items.append(dato)\n",
        "\n",
        "    def dequeue(self):\n",
        "        return self.items.pop(0) if not self.is_empty() else None\n",
        "\n",
        "    def is_empty(self):\n",
        "        return len(self.items) == 0\n",
        "\n",
        "\n",
        "# Simulación\n",
        "cola_banco = Cola()\n",
        "cola_banco.enqueue(\"Ana\")\n",
        "cola_banco.enqueue(\"Luis\")\n",
        "cola_banco.enqueue(\"María\")\n",
        "\n",
        "print(\"Atendiendo:\", cola_banco.dequeue())  # Ana\n",
        "print(\"Atendiendo:\", cola_banco.dequeue())  # Luis\n",
        "print(\"Atendiendo:\", cola_banco.dequeue())  # María\n"
      ]
    }
  ]
}