{
  "nbformat": 4,
  "nbformat_minor": 0,
  "metadata": {
    "colab": {
      "provenance": [],
      "authorship_tag": "ABX9TyPFAMdToPgl6pyRZf8iqtJs",
      "include_colab_link": true
    },
    "kernelspec": {
      "name": "python3",
      "display_name": "Python 3"
    },
    "language_info": {
      "name": "python"
    }
  },
  "cells": [
    {
      "cell_type": "markdown",
      "metadata": {
        "id": "view-in-github",
        "colab_type": "text"
      },
      "source": [
        "<a href=\"https://colab.research.google.com/github/l24590403-crypto/Pilas-Colas-Y-Grafos/blob/main/Pilas.ipynb\" target=\"_parent\"><img src=\"https://colab.research.google.com/assets/colab-badge.svg\" alt=\"Open In Colab\"/></a>"
      ]
    },
    {
      "cell_type": "code",
      "execution_count": null,
      "metadata": {
        "id": "DZEYx2TPsgyk"
      },
      "outputs": [],
      "source": [
        "class Pila:\n",
        "    def __init__(self):\n",
        "        self.items = []\n",
        "\n",
        "    def push(self, dato):\n",
        "        self.items.append(dato)\n",
        "\n",
        "    def pop(self):\n",
        "        return self.items.pop() if not self.is_empty() else None\n",
        "\n",
        "    def is_empty(self):\n",
        "        return len(self.items) == 0\n",
        "\n",
        "\n",
        "def es_palindromo(palabra):\n",
        "    pila = Pila()\n",
        "    for letra in palabra:\n",
        "        pila.push(letra)\n",
        "\n",
        "    invertida = \"\"\n",
        "    while not pila.is_empty():\n",
        "        invertida += pila.pop()\n",
        "\n",
        "    return palabra == invertida\n",
        "\n",
        "\n",
        "# Prueba\n",
        "print(es_palindromo(\"radar\"))   # True\n",
        "print(es_palindromo(\"python\"))  # False\n"
      ]
    }
  ]
}